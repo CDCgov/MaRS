{
 "cells": [
  {
   "cell_type": "code",
   "execution_count": 63,
   "id": "28740545-b9bc-4f04-a37e-919e552a92f9",
   "metadata": {},
   "outputs": [
    {
     "name": "stdout",
     "output_type": "stream",
     "text": [
      "('DHPS_437Corrected ', 'Minor', 'A581V')\n",
      "1.0\n"
     ]
    }
   ],
   "source": [
    "with open (\"test2.csv\", \"r\") as t1:\n",
    "    dict_SNPs={} ###Calculate major, minor, and wildtypes by going through each line\n",
    "    for lines in t1:\n",
    "        #print(lines)\n",
    "        currentVAF=0\n",
    "        if \"Sequence Name\" not in lines:\n",
    "            if \"->\" in lines.split(\",\")[7]:\n",
    "                currentVAF=float(lines.split(\",\")[7][0:4].strip(\"%\"))\n",
    "            else:\n",
    "                currentVAF=float(lines.split(\",\")[7].strip(\"%\"))\n",
    "            if currentVAF >=50:\n",
    "                #print(lines.split(\",\")[1])\n",
    "                if (lines.split(\",\")[1],\"Major\",lines.split(\",\")[9]) not in dict_SNPs:\n",
    "                    dict_SNPs[lines.split(\",\")[1],\"Major\",lines.split(\",\")[9]]=1\n",
    "                else:\n",
    "                    dict_SNPs[lines.split(\",\")[1],\"Major\",lines.split(\",\")[9]]=dict_SNPs[lines.split(\",\")[1],\"Major\",lines.split(\",\")[9]]+1\n",
    "            if 0<currentVAF<50:\n",
    "                if (lines.split(\",\")[1],\"Minor\",lines.split(\",\")[9]) not in dict_SNPs:\n",
    "                    dict_SNPs[lines.split(\",\")[1],\"Minor\",lines.split(\",\")[9]]=1\n",
    "                else:\n",
    "                    dict_SNPs[lines.split(\",\")[1],\"Minor\",lines.split(\",\")[9]]=dict_SNPs[lines.split(\",\")[1],\"Minor\",lines.split(\",\")[9]]+1\n",
    "            if currentVAF ==0:\n",
    "                if (lines.split(\",\")[1],\"Wildtype\",lines.split(\",\")[9]) not in dict_SNPs:\n",
    "                    dict_SNPs[lines.split(\",\")[1],\"Wildtype\",lines.split(\",\")[9]]=1\n",
    "                else:\n",
    "                    dict_SNPs[lines.split(\",\")[1],\"Wildtype\",lines.split(\",\")[9]]=dict_SNPs[lines.split(\",\")[1],\"Wildtype\",lines.split(\",\")[9]]+1\n",
    "\n",
    "dict_SNPs_SUM={} ###Find sum of major, minor, wildtypes, total  samples\n",
    "\n",
    "for items in dict_SNPs:\n",
    "    if (items[0],items[2]) not in dict_SNPs_SUM:\n",
    "        dict_SNPs_SUM[items[0],items[2]]=dict_SNPs[items]\n",
    "    else:\n",
    "        dict_SNPs_SUM[items[0],items[2]]=dict_SNPs_SUM[items[0],items[2]]+dict_SNPs[items]\n",
    "    \n",
    "dict_SNPS_ratio = {} ##Find the ratio of major, minor, wildtypes in total samples\n",
    "for items in dict_SNPs:\n",
    "    dict_SNPS_ratio[items]=round(dict_SNPs[items]/dict_SNPs_SUM[items[0],items[2]],2)\n",
    "\n",
    "dict_SNPs_final = {} ##Create final form for the SNPs\n",
    "for items in dict_SNPs:\n",
    "    #print(items)\n",
    "    #print(items[2])\n",
    "    #print(items[0])\n",
    "    #if items[0] == \"DHPS_437Corrected \" and items[2]== \"A581V\":\n",
    "    #    print(items)\n",
    "    #    print(dict_SNPS_ratio[items])\n",
    "    if (items[0],items[2]) not in dict_SNPs_final:\n",
    "        dict_SNPs_final[items[0],items[2]]=[0,0,0,0]\n",
    "    if items[1]==\"Wildtype\":\n",
    "        dict_SNPs_final[items[0],items[2]][0]=dict_SNPS_ratio[items]\n",
    "    if items[1]==\"Major\":\n",
    "        dict_SNPs_final[items[0],items[2]][1]=dict_SNPS_ratio[items]\n",
    "    if items[1]==\"Minor\":\n",
    "        dict_SNPs_final[items[0],items[2]][2]=dict_SNPS_ratio[items]\n",
    "    dict_SNPs_final[items[0],items[2]][3]=dict_SNPs_SUM[items[0],items[2]]\n",
    "\n",
    "#print(dict_SNPs_final)\n",
    "with open (\"Tab_Table_SNP.csv\", \"w\") as t2:\n",
    "    t2.write(\"Gene+SNP,Wildtype: AF=0%,Minor: AF < 50%,Major: AF >= 50%,Samplesize\\n\")\n",
    "    for items in dict_SNPs_final:\n",
    "        t2.write(items[0]+\":\"+items[1]+\",\"+str(dict_SNPs_final[items][0])+\",\"+str(dict_SNPs_final[items][1])+\",\"+str(dict_SNPs_final[items][2])+\",\"+\"N=\"+str(dict_SNPs_final[items][3])+\"\\n\")\n",
    "    \n",
    "\n"
   ]
  },
  {
   "cell_type": "code",
   "execution_count": null,
   "id": "cc833220-ad8d-44cd-bccf-d9fd8801f491",
   "metadata": {},
   "outputs": [],
   "source": []
  }
 ],
 "metadata": {
  "kernelspec": {
   "display_name": "Python 3 (ipykernel)",
   "language": "python",
   "name": "python3"
  },
  "language_info": {
   "codemirror_mode": {
    "name": "ipython",
    "version": 3
   },
   "file_extension": ".py",
   "mimetype": "text/x-python",
   "name": "python",
   "nbconvert_exporter": "python",
   "pygments_lexer": "ipython3",
   "version": "3.9.12"
  }
 },
 "nbformat": 4,
 "nbformat_minor": 5
}
