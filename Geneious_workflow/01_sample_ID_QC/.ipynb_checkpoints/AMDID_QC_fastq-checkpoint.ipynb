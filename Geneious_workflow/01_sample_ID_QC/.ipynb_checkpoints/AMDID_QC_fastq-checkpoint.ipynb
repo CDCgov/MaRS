{
 "cells": [
  {
   "cell_type": "markdown",
   "id": "d7fb8e6f-bb68-40b3-81dc-ede523f7e718",
   "metadata": {},
   "source": [
    "> Author: @ ET 4/14/22 :goat:\n",
    ">> edited: @ ET 4/20/22 \n",
    "------\n",
    "\n",
    "## AMD ID Quality Check of FASTQ Filenames ##\n",
    "\n",
    "### Background: ### \n",
    "\n",
    "A standardized sample naming schema is used to capture all associated meta-data prior to sequencing. Briefly, the `AMD ID` consist of 20 characters that capture information like collection year, geographical and treatment information, sample type and molecular markers included for each sample. \n",
    "\n",
    "Capturing this information at the pre-processing stage reduces the need to have multiple documents with this information, removing potential for mislabeling or tracking errors, and provides the bioinformatics team  with sufficient information to perform subsequent analysis and standardize analysis pipelines, including submission of data to NCBI. \n",
    "\n",
    "#### AMD ID Description #### \n",
    "\n",
    "* The AMD ID Key:  `<year> <country> <state/site> <day of failure> <treatment> <sample_id> <genus spp> <sample type> <mol marker bit code> <# sample processed>`. \n",
    "* Any missing meta data is replaced with an `x` _lower case_ strings for each character position. \n",
    "\n",
    "Example:\n",
    "- `Individual` sequenced sample ID: `17GNDo00F0001PfF1290` = `<2017> <Guinea> <Dorota> <Day0> <AS+AQ> <0001> <P.falciparum> <FilterBloodSpot> <k13-crt-mdr-dhfr-dhps-cytB-cpmp-pfs47> <0>` \n",
    "                      \n",
    "- `Pooled` sequenced sample ID: `17GNDo00x001p10F1290` = `<2017> <Guinea> <Dorota> <Day0> <missing info> <001> <Pooled Samples> <Samples in Pool> <FilterBloodSpot> <k13-crt-mdr-dhfr-dhps-cytB-cpmp-pfs47> <0>`\n",
    "       \n",
    "NOTE: If information is not availble (na), **x** is used for each character position. For example, in the pooled samples Treatment has (2) character spaces, represented as a two digit number. This is replaced with (2) **xx** since its a pool of samples that have possibly different treatment information. Moreover, for pooled samples, **Sample ID** is replaced with **three digit number + the letter p** (for pooled), and **Genus** is replaced with **total number of SamplesInPool** as a (2) digit number. \n",
    "\n",
    "Please see presentation at [AMD_ID presentation](https://github.com/CDCgov/MaRS/blob/master/Geneious_workflow/01_sample_ID_QC/files/AMD_ID_create_key.pptx) for more descriptive information. The `AMD ID` can be generated using the [AMD create template](https://github.com/CDCgov/MaRS/blob/master/Geneious_workflow/01_sample_ID_QC/files/AMD_ID_create_template.xlsx). \n",
    "     \n",
    "### Code information ###\n",
    "\n",
    "This code checks whether the `AMD ID` is the correct length and contains all the required elements described above. \n",
    "\n",
    "### Required packages ###\n",
    "- [pandas](https://pandas.pydata.org/) \n",
    "- [numpy](https://numpy.org) \n",
    "- [os](https://docs.python.org/3/library/os.html)\n",
    "- [re](https://docs.python.org/3/library/re.html) \n",
    "\n",
    "### Inputs ###\n",
    "- .fastq filenames in the `AMD ID` convention \n",
    "\n",
    "### Outputs ### \n",
    "- List of incorrect `AMD ID` .fastq file \n",
    "\n",
    "### NOTE ###\n",
    "This code will work on UNIX based systems. Please change the respective parts below in code for Windows based OS. "
   ]
  },
  {
   "cell_type": "markdown",
   "id": "b3e9d9bc-4135-44a6-a33c-bc9e738e1ba6",
   "metadata": {},
   "source": [
    "### Before you start, restart the kernel to clear dir() ###\n",
    "> Kernel > Restart Kerneal and Clear all outputs "
   ]
  },
  {
   "cell_type": "code",
   "execution_count": 2,
   "id": "8a90230f-6ca8-4ce3-aedb-33fb23a49e5c",
   "metadata": {},
   "outputs": [],
   "source": [
    "## Import dependencies ## \n",
    "import numpy as np \n",
    "import pandas as pd\n",
    "import os\n",
    "import re"
   ]
  },
  {
   "cell_type": "code",
   "execution_count": 3,
   "id": "3f44c6f8-df5d-4a28-973b-bf4632bdf5d7",
   "metadata": {},
   "outputs": [
    {
     "name": "stdout",
     "output_type": "stream",
     "text": [
      "You are currently in: /Users/eldintalundzic/MaRS/Geneious_workflow/01_sample_ID_QC\n"
     ]
    }
   ],
   "source": [
    "## Get current dir $PATHs ## \n",
    "\n",
    "current_dir = os.getcwd()\n",
    "print(\"You are currently in:\", current_dir)\n"
   ]
  },
  {
   "cell_type": "code",
   "execution_count": 4,
   "id": "fdfa7761-b738-4487-882c-85d81cea22ec",
   "metadata": {},
   "outputs": [
    {
     "name": "stdout",
     "output_type": "stream",
     "text": [
      "User home directory: /Users/eldintalundzic\n"
     ]
    }
   ],
   "source": [
    "## Get user $HOME directory ## \n",
    "\n",
    "def slash_split(string):\n",
    "    '''Takes string, at 3rd \"/\" keeps all characters to the left; if no \"/\" returns full string'''\n",
    "    if string.count(\"/\") == 0:\n",
    "        return string \n",
    "    return \"/\".join(string.split(\"/\", 3)[:3]) \n",
    "\n",
    "user_path = slash_split(current_dir)\n",
    "\n",
    "print(\"User home directory:\", user_path)"
   ]
  },
  {
   "cell_type": "markdown",
   "id": "36d652e4-de0a-45bb-8d45-5796a25062d2",
   "metadata": {},
   "source": [
    "### Choose example .fastq files ### \n",
    "- Un-comment the block below and run it to use example data downloaded as part of the MaRS repo. \n",
    "- Otherwise, skip code block below"
   ]
  },
  {
   "cell_type": "code",
   "execution_count": 5,
   "id": "39fd2bda-b903-463e-a491-f93c355d5c0c",
   "metadata": {},
   "outputs": [
    {
     "name": "stdout",
     "output_type": "stream",
     "text": [
      "Changing directory to: /Users/eldintalundzic/MaRS/Geneious_workflow/02_geneious_analysis/example_data\n"
     ]
    }
   ],
   "source": [
    "## Change dir to example .fastq data ## \n",
    "\n",
    "os.chdir(user_path + \"/MaRS/Geneious_workflow/02_geneious_analysis/example_data\")\n",
    "\n",
    "print(\"Changing directory to:\", os.getcwd())"
   ]
  },
  {
   "cell_type": "markdown",
   "id": "49656870-c62f-4357-b933-a86fbbd94045",
   "metadata": {},
   "source": [
    "### OR choose your own .fastq files ### \n",
    "- Un-comment the block below and run it\n",
    "- Provide your full $PATH to your `AMDID.fastq` files _(ex. /Users/\"username\"/Desktop/my_data)_"
   ]
  },
  {
   "cell_type": "code",
   "execution_count": 6,
   "id": "6a45c13d-aa17-4fb1-abb6-c380d53adeaf",
   "metadata": {},
   "outputs": [],
   "source": [
    "## Change dir to your own .fastq ## \n",
    "\n",
    "# fastq_filepath = input(\"Provide full path to fastq filenames:\")                     # save user provided input string $PATH as var fastq_filepath \n",
    "\n",
    "# os.chdir(fastq_filepath)                                                            # change dir to user provided $PATH \n",
    "# print(\"Changing directory to:\", os.getcwd()) "
   ]
  },
  {
   "cell_type": "markdown",
   "id": "ed24100a-5b90-4078-ae41-ce819769d7b8",
   "metadata": {},
   "source": [
    "### Check directory contents for fastq files ### "
   ]
  },
  {
   "cell_type": "code",
   "execution_count": 7,
   "id": "b2945f0c-5b44-4d76-99c4-6b1782d35baf",
   "metadata": {},
   "outputs": [
    {
     "name": "stdout",
     "output_type": "stream",
     "text": [
      "Found 4 *fastq files!\n"
     ]
    }
   ],
   "source": [
    "## QC directory check ## \n",
    "\n",
    "file_list = os.listdir()                                                            # save contents of directory to file_list \n",
    "\n",
    "## Remove any None (null records) if any ##\n",
    "clean_file_list = [] \n",
    "for item in file_list:\n",
    "    if item != None: clean_file_list.append(item)\n",
    "    \n",
    "# List comprehension to do same\n",
    "# Check for true values and filter None values automatically \n",
    "#clean_file_list = [ item for item in clean_file_list if item ] \n",
    "\n",
    "test_string = \"fastq\"                                                               # define string to search for in file_list; here \"fastq\" filesnames \n",
    "\n",
    "fastq_files = []                                                                    # create an empty list to save fastq filenames \n",
    "non_fastq_files = []                                                                # create an empty list to save all non-fastq filenames \n",
    "    \n",
    "## Save fastq filenames into fastq_files var ## \n",
    "fastq_files = [ item for item in clean_file_list if test_string in item ] \n",
    "# filter() + lambda way to do it ^: \n",
    "#fastq_files = list(filter(lambda x: test_string in x, file_list)) \n",
    "\n",
    "non_fastq_files = [ item for item in clean_file_list if test_string not in item ] \n",
    "\n",
    "\n",
    "## Raise error if no fastq files found in directory ##\n",
    "def check_list(ls):                                                                 # create a func called check_list \n",
    "    '''Takes a list, if empty returns error msg, else returns list''' \n",
    "    try:                                                                            # see if list has anything at first index \n",
    "        ls[0]                                                                       # if there is anything return the entire list \n",
    "        return ls\n",
    "    except IndexError:                                                              # else for IndexError produce error messege  \n",
    "        er_msg = '''\"Looks like your dir has no fastq files in it. Make sure\n",
    "        the $PATH is correct and you have fastq files in it.'''\n",
    "        print(er_msg) \n",
    "\n",
    "total_fastq_files = len(check_list(fastq_files))\n",
    "print(\"Found\", total_fastq_files, \"*fastq files!\")"
   ]
  },
  {
   "cell_type": "markdown",
   "id": "0eea82ed-d936-4d10-ab49-1022c2d6b1de",
   "metadata": {},
   "source": [
    "### Capture only AMD IDs ### "
   ]
  },
  {
   "cell_type": "code",
   "execution_count": 8,
   "id": "e4d7948c-bb37-4dc5-bc41-38dc06cc85ac",
   "metadata": {},
   "outputs": [
    {
     "name": "stdout",
     "output_type": "stream",
     "text": [
      "4 AMD IDs found out of 4 *fastq files\n",
      "Found correct length AMD IDs: 4 out of 4\n"
     ]
    }
   ],
   "source": [
    "## Filter only filenames with underscores ## \n",
    "undscore_fastq_list = list(filter(lambda x: '_' in x, fastq_files))\n",
    "\n",
    "## Get AMD ID ## \n",
    "amd_ids = [] \n",
    "\n",
    "## Takes list, at first substr \"_\" splits string ##\n",
    "for items in undscore_fastq_list:\n",
    "    amd_ids.append(\"_\".join(items.split(\"_\", 1)[:1]))                               # at 1st encounter split string to left [:1] \n",
    "        \n",
    "print(len(amd_ids), \"AMD IDs found out of\", total_fastq_files, \"*fastq files\")\n",
    "\n",
    "\n",
    "## Save correct length AMD IDs ## \n",
    "\n",
    "amdid_oklen =[] \n",
    "wrong_len = []\n",
    "\n",
    "for item in amd_ids:\n",
    "    if len(item) == 20: amdid_oklen.append(item)\n",
    "    else: wrong_len.append(item) + print(\"These were incorrect length:\", wrong_len)\n",
    "\n",
    "print(\"Found correct length AMD IDs:\", len(amdid_oklen), \"out of\", len(amdid_oklen)) \n",
    "\n"
   ]
  },
  {
   "cell_type": "code",
   "execution_count": null,
   "id": "ba4ad2b6-448d-4284-ac60-a5550f776ef1",
   "metadata": {},
   "outputs": [],
   "source": []
  },
  {
   "cell_type": "code",
   "execution_count": 9,
   "id": "73fcf5b0-9d4c-4c0e-adb0-5f0e16c7fea4",
   "metadata": {},
   "outputs": [],
   "source": [
    "## Seperate ind from pooled samples ## \n",
    "\n",
    "substring = \"p\"                                                 # p = pooled samples \n",
    "\n",
    "## Create empty lists for pooled and individual samples ## \n",
    "pool_fq = [] \n",
    "ind_fq = [] \n",
    "\n",
    "## Loop through AMD ID fastq filenames; seperate = ind v pool \n",
    "for items in amdid_oklen:\n",
    "    if substring in items: pool_fq.append(items)                # save pooled IDs in pool_fq list \n",
    "    else: ind_fq.append(items)                                  # save ind IDs in ind_fq list "
   ]
  },
  {
   "cell_type": "code",
   "execution_count": 13,
   "id": "a595dfe1-90d3-4442-b565-32c509544364",
   "metadata": {},
   "outputs": [],
   "source": [
    "## Create df of AMD IDs ## \n",
    "\n",
    "df_ind = pd.DataFrame(ind_fq, columns =['AMD_ID_IND'])\n",
    "\n",
    "df_pool = pd.DataFrame(pool_fq, columns =['AMD_ID_POOL'])\n"
   ]
  },
  {
   "cell_type": "markdown",
   "id": "fcb931bf-ca50-46eb-9362-cb4d32260b3b",
   "metadata": {},
   "source": [
    "### QC check of AMD ID contents ### \n",
    "Please provide the expected year, country, states/province, treatment and bit_marker information. "
   ]
  },
  {
   "cell_type": "code",
   "execution_count": 15,
   "id": "0a3e9ad7-091b-4d4f-ade4-57e2db9daaa7",
   "metadata": {},
   "outputs": [],
   "source": [
    "## Modify inputs below as string ## \n",
    "year = '20'\n",
    "country = 'GN'\n",
    "state = 'Ma'\n",
    "#state_2 = 'Ak'\n",
    "treatment = 'A' \n",
    "bit_markers = '0671'\n",
    "pool = 'p' \n",
    "\n",
    "## If need to add additional filters, modify above and in code below ## \n",
    "\n",
    "## Run QC test for each category for pooled samples & add column if T/F ##\n",
    "df_pool[year] = df_pool['AMD_ID_POOL'].str.contains(year, regex=False, case=True)\n",
    "df_pool[country] = df_pool['AMD_ID_POOL'].str.contains(country, regex=False, case=True)\n",
    "df_pool[state] = df_pool['AMD_ID_POOL'].str.contains(state, regex=False, case=True)\n",
    "df_pool[treatment] = df_pool['AMD_ID_POOL'].str.contains(treatment, regex=False, case=True)\n",
    "#df_pool[state_2] = df_pool['AMD_ID_POOL'].str.contains(treatment, regex=False, case=True)\n",
    "df_pool[bit_markers] = df_pool['AMD_ID_POOL'].str.contains(bit_markers, regex=False, case=True)\n",
    "df_pool[pool] = df_pool['AMD_ID_POOL'].str.contains(pool, regex=False, case=True)\n",
    "\n",
    "## Run QC test for each category for individual samples & add column if T/F ## \n",
    "\n",
    "df_ind[year] = df_ind['AMD_ID_IND'].str.contains(year, regex=False, case=True)\n",
    "df_ind[country] = df_ind['AMD_ID_IND'].str.contains(country, regex=False, case=True)\n",
    "df_ind[state] = df_ind['AMD_ID_IND'].str.contains(state, regex=False, case=True)\n",
    "#df_ind[state_2] = df_ind['AMD_ID_IND'].str.contains(state_2, regex=False, case=True)\n",
    "df_ind[treatment] = df_ind['AMD_ID_IND'].str.contains(treatment, regex=False, case=True)\n",
    "df_ind[bit_markers] = df_ind['AMD_ID_IND'].str.contains(bit_markers, regex=False, case=True)\n",
    "\n",
    "## TODO: make above more pythonic: \n",
    "## - Figure out a way to use a list of check variables iteratively and add columns \n"
   ]
  },
  {
   "cell_type": "markdown",
   "id": "3e8e0c8b-af4e-4fa5-ad7e-63f0de9f3dbd",
   "metadata": {},
   "source": [
    "### Below code will identify erroeneous AMDIDs ### \n",
    "A .csv file will be created on the desktop showing the AMD_IDs and elements that didn't match. "
   ]
  },
  {
   "cell_type": "code",
   "execution_count": 31,
   "id": "96928fc0-57d8-4ef2-8d7d-93f6aac95f5f",
   "metadata": {},
   "outputs": [
    {
     "name": "stdout",
     "output_type": "stream",
     "text": [
      "No errors found in individual sequenced samples.\n",
      " \n",
      "Errors found in pooled samples. Check df_pool_check df\n",
      "            AMD_ID_POOL    20     GN     Ma     A  0671     p\n",
      "0  20MDAk00x001p05F0671  True  False  False  True  True  True\n",
      "1  20MDAk00x001p05F0671  True  False  False  True  True  True\n"
     ]
    }
   ],
   "source": [
    "## Change dir to desktop to save erroneous IDs ## \n",
    "\n",
    "os.chdir(user_path + \"/Desktop/\")\n",
    "\n",
    "## List any filenames that had any incorrect elements ## \n",
    "\n",
    "df_ind_check = df_ind[(df_ind == False).any(axis=1)]\n",
    "\n",
    "df_pool_check = df_pool[(df_pool == False).any(axis=1)]\n",
    "\n",
    "if len(df_ind_check) != 0:\n",
    "    print('Errors found in pooled samples. Check df_ind_check df')\n",
    "    print(df_ind_check)\n",
    "    df_ind_check.to_csv('Erroneous_Individual_AMDIDS.csv') \n",
    "else:\n",
    "    print('No errors found in individual sequenced samples.') \n",
    "\n",
    "print(' ')\n",
    "    \n",
    "if len(df_pool_check) != 0:\n",
    "    print('Errors found in pooled samples. Check df_pool_check df')\n",
    "    print(df_pool_check)\n",
    "    df_pool_check.to_csv('Erroneous_Pooled_AMDIDS.csv') \n",
    "else:\n",
    "    print('No errors found in individual sequenced samples.') "
   ]
  },
  {
   "cell_type": "markdown",
   "id": "31d7ed4a-66f7-460b-b0e9-1796a70cc394",
   "metadata": {},
   "source": [
    "### Below is example code to fix AMD_IDS ### "
   ]
  },
  {
   "cell_type": "code",
   "execution_count": 29,
   "id": "8094a7a4-5531-4ffa-b5a0-79a85c79a015",
   "metadata": {},
   "outputs": [
    {
     "data": {
      "text/html": [
       "<div>\n",
       "<style scoped>\n",
       "    .dataframe tbody tr th:only-of-type {\n",
       "        vertical-align: middle;\n",
       "    }\n",
       "\n",
       "    .dataframe tbody tr th {\n",
       "        vertical-align: top;\n",
       "    }\n",
       "\n",
       "    .dataframe thead th {\n",
       "        text-align: right;\n",
       "    }\n",
       "</style>\n",
       "<table border=\"1\" class=\"dataframe\">\n",
       "  <thead>\n",
       "    <tr style=\"text-align: right;\">\n",
       "      <th></th>\n",
       "      <th>AMD_ID_POOL</th>\n",
       "      <th>20</th>\n",
       "      <th>GN</th>\n",
       "      <th>Ma</th>\n",
       "      <th>A</th>\n",
       "      <th>0671</th>\n",
       "      <th>p</th>\n",
       "    </tr>\n",
       "  </thead>\n",
       "  <tbody>\n",
       "    <tr>\n",
       "      <th>0</th>\n",
       "      <td>20MDAk00x001p05F0671</td>\n",
       "      <td>True</td>\n",
       "      <td>False</td>\n",
       "      <td>False</td>\n",
       "      <td>True</td>\n",
       "      <td>True</td>\n",
       "      <td>True</td>\n",
       "    </tr>\n",
       "    <tr>\n",
       "      <th>1</th>\n",
       "      <td>20MDAk00x001p05F0671</td>\n",
       "      <td>True</td>\n",
       "      <td>False</td>\n",
       "      <td>False</td>\n",
       "      <td>True</td>\n",
       "      <td>True</td>\n",
       "      <td>True</td>\n",
       "    </tr>\n",
       "  </tbody>\n",
       "</table>\n",
       "</div>"
      ],
      "text/plain": [
       "            AMD_ID_POOL    20     GN     Ma     A  0671     p\n",
       "0  20MDAk00x001p05F0671  True  False  False  True  True  True\n",
       "1  20MDAk00x001p05F0671  True  False  False  True  True  True"
      ]
     },
     "execution_count": 29,
     "metadata": {},
     "output_type": "execute_result"
    }
   ],
   "source": [
    "## Fix erroneous AMD IDs ##\n",
    "\n",
    "\n",
    "\n",
    "\n"
   ]
  },
  {
   "cell_type": "code",
   "execution_count": 450,
   "id": "41f8451a-21e9-4aa3-b9c7-fcb7f0f01aa0",
   "metadata": {},
   "outputs": [
    {
     "name": "stdout",
     "output_type": "stream",
     "text": [
      "Don't know how to reset  #, please run `%reset?` for details\n",
      "Don't know how to reset  reset, please run `%reset?` for details\n",
      "Don't know how to reset  workspace;, please run `%reset?` for details\n",
      "Don't know how to reset  see, please run `%reset?` for details\n",
      "Don't know how to reset  %reset, please run `%reset?` for details\n",
      "Don't know how to reset  -h, please run `%reset?` for details\n"
     ]
    }
   ],
   "source": [
    "## Clear variables, modules, etc ## \n",
    "\n",
    "#%reset -f          # reset workspace; see %reset -h\n",
    "\n",
    "#dir()              # check dir is clean "
   ]
  },
  {
   "cell_type": "code",
   "execution_count": null,
   "id": "2c51409f-7c39-40b5-8799-31beee178a98",
   "metadata": {},
   "outputs": [],
   "source": []
  }
 ],
 "metadata": {
  "kernelspec": {
   "display_name": "Python 3 (ipykernel)",
   "language": "python",
   "name": "python3"
  },
  "language_info": {
   "codemirror_mode": {
    "name": "ipython",
    "version": 3
   },
   "file_extension": ".py",
   "mimetype": "text/x-python",
   "name": "python",
   "nbconvert_exporter": "python",
   "pygments_lexer": "ipython3",
   "version": "3.9.12"
  }
 },
 "nbformat": 4,
 "nbformat_minor": 5
}
