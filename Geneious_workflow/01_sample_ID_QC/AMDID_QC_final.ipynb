{
 "cells": [
  {
   "cell_type": "markdown",
   "id": "3b728e88-5e5c-415f-b7d2-3de5158b4b16",
   "metadata": {},
   "source": [
    "> Author: @ DP \n",
    ">> edited by: @ET 4/5/22 version 0.2\n",
    "\n",
    "----\n",
    ">#### TODO ####\n",
    ">#### Activity Name ####\n",
    ">- [ ] Add test data @DP \n",
    "\n",
    ">#### Completed Activity ✓ ####\n",
    ">- [x] Add links to each of the steps @ET :goat:\n",
    "------\n",
    "\n",
    "## Quality check of sample ID ##\n",
    "\n",
    "### Background: ### \n",
    "\n",
    "A standardized sample naming schema is used to capture all associated meta-data prior to sequencing. Briefly, the AMD ID consist of 20 characters that capture information like collection year, geographical and treatment information, sample type and molecular markers included for each sample. Please see: MS Teams > SOP-Lab > [01_Sample_Naming](https://teams.microsoft.com/_#/files/SOPs%20-%20Lab?threadId=19%3Affc4c3a207f14a40a89607153ba81e66%40thread.skype&ctx=channel&context=01_Sample%2520Naming&rootfolder=%252Fteams%252FCGH-DPDM-AMD%252FShared%2520Documents%252FSOPs%2520-%2520Lab%252F01_Sample%2520Naming) directory for more information. Capturing this information at the pre-processing stage reduces the need to have multiple documents with this information, removing potential for mislabeling or tracking errors, and provides the bioiformatics team  with sufficient information to perform subsequent analysis and standardize analysis pipelines, including submission of data to NCBI. \n",
    "\n",
    "#### AMD ID Description #### \n",
    "\n",
    "* The AMD ID Key:  `<year> <country> <state/site> <day of failure> <treatment> <sample_id> <genus spp> <sample type> <mol marker bit code> <# sample processed>`. \n",
    "* Any missing meta data is replaced with an `x` _lower case_ strings for each character position. \n",
    "\n",
    "Example:\n",
    "- `Individual` sequenced sample ID: `17GNDo00F0001PfF1290` = `<2017> <Guinea> <Dorota> <Day0> <AS+AQ> <0001> <P.falciparum> <FilterBloodSpot> <k13-crt-mdr-dhfr-dhps-cytB-cpmp-pfs47> <0>` \n",
    "\n",
    "\n",
    "                          \n",
    "- `Pooled` sequenced sample ID: `17GNDo00x001p10F1290` = `<2017> <Guinea> <Dorota> <Day0> <missing info> <001> <Pooled Samples> <Samples in Pool> <FilterBloodSpot> <k13-crt-mdr-dhfr-dhps-cytB-cpmp-pfs47> <0>`\n",
    "       \n",
    "NOTE: If information is not availble (na) **x** is used. For pooled samples, Treatment is x since its a pool of multiple samples with that info.\n",
    "\n",
    "NOTE: For pooled samples, **Sample ID** is replaced with **three digit sample ID + p(Pooled)** and **Genus** is replaced **total number of SamplesInPool** since \n",
    "     this is a pooled sample. \n",
    "     \n",
    "### Code information ###\n",
    "\n",
    "This code checks whether the AMD_ID is the correct length and contains all the required elements described above. \n",
    "\n",
    "### Required packages ###\n",
    "- [Pandas](https://pandas.pydata.org/) \n",
    "- [os](https://docs.python.org/3/library/os.html)\n",
    "- [re](https://docs.python.org/3/library/re.html) \n",
    "\n",
    "### Inputs ###\n",
    "- .csv file that includes the AMD_IDs\n",
    "\n",
    "### Outputs ### \n",
    "- List of incorrect AMD_IDs \n"
   ]
  },
  {
   "cell_type": "code",
   "execution_count": 43,
   "id": "26712c39-f27a-4a79-9dde-96b4c89fd941",
   "metadata": {},
   "outputs": [
    {
     "name": "stdin",
     "output_type": "stream",
     "text": [
      "Please enter a valid file path to a csv:  /Users/dhruviben/Desktop/PARMA-SOP/test_script.csv\n"
     ]
    }
   ],
   "source": [
    "## Import dependencies ## \n",
    "\n",
    "import pandas as pd\n",
    "import os\n",
    "import re\n",
    "\n",
    "Sample_filepath  = input(\"Please enter a valid file path to a csv: \")         # Ask user to addt the path of .csv file with sample IDs\n",
    "\n",
    "while not os.path.isfile(Sample_filepath):\n",
    "    print(\"Error: That is not a valid file, try again...\")                    # Error if file is not found\n",
    "    Sample_filepath = input(\"Please enter a valid file path to a csv: \")      # If error, enter again the file path\n",
    "\n",
    "Sample_file = pd.read_csv(Sample_filepath)                                    # Read a csv file using pandas csv function\n"
   ]
  },
  {
   "cell_type": "code",
   "execution_count": 44,
   "id": "a2daae03-8eb2-4a1c-8f5c-6ebf9a2bebd0",
   "metadata": {},
   "outputs": [
    {
     "name": "stdout",
     "output_type": "stream",
     "text": [
      "20MDAn00X002p5F0671 has length 19\n",
      "20MDAn00X00205F0671 has length 19\n",
      "19ANBe00A0009PfFxxx has length 19\n",
      "19ANBe00A0010PfFxxx has length 19\n",
      "19 has length 2\n",
      "12ab has length 4\n"
     ]
    }
   ],
   "source": [
    "## Creat a empty list for AMD_IDs \n",
    "\n",
    "Sample_no_match = []        # All the Ids with no match will be saved in list\n",
    "Sample_with_match = []      # all the ID which has length  20 will be saved in list\n",
    " \n",
    "## 1st part is to check if Sample ID has length 20 or not\n",
    "\n",
    "Sample_name = Sample_file.rename(columns={'Sample':\"Sample_ID\", 'AMD_ID': \"Sample_ID\",'AMD ID (Pooled)': \"Sample_ID\", 'Document Name': \"Sample_ID\"})      # rename column name to Sample_ID as differant files migth have diffenrt column name.\n",
    "  \n",
    "SampleID_df = Sample_name[['Sample_ID']]                       # create a dataframe using the column Sample_ID \n",
    "\n",
    "for rows in SampleID_df.index:                                 # run a for loop on each rows\n",
    "    \n",
    "    sample_name =SampleID_df['Sample_ID'][rows].split('/n')    # split rows by newline\n",
    "    for each_ID in sample_name:\n",
    "        if len(each_ID) == 20 :                                # if length is 20, save the samples in Sample_with_match list\n",
    "            Sample_with_match.append(each_ID) \n",
    "        else: \n",
    "            Sample_no_match.append(each_ID)                    # if length is not 20 then save the results in Sample_no_match list. \n",
    "            print(each_ID,\"has length\", int(len(each_ID)))     # print the sample ID with its length if less than 20\n",
    "\n"
   ]
  },
  {
   "cell_type": "code",
   "execution_count": 45,
   "id": "32c25347-331f-4487-aab1-e564cfbb72f5",
   "metadata": {},
   "outputs": [
    {
     "name": "stdout",
     "output_type": "stream",
     "text": [
      "191NBe00A0026PfFxxx0 is not maching with ID\n",
      "19ANBe00A0031P1Fxxx0 is not maching with ID\n"
     ]
    }
   ],
   "source": [
    "## 2nd part is to check all ID with length 20, if it matches with AMD ID information regular expression as shown in discription at begining.\n",
    "\n",
    "for each_file  in Sample_with_match:                                     # Run a for loop for each file in Sample_with_match list\n",
    "    \n",
    "    AMD_ID =('([0-9x]{2})([A-Zx]{2})([A-Za-z]{2})([0-9x]{2})([A-Yx]{1})([0-9]{3})(([0-9]{1})|([p]{1}))(([0-9]{2})|([Pf]{2}))([A-Zx]{1})([0-9x]{3})([0-9]{1})')\n",
    "             \n",
    "                                                                         # split AMD ID by its information using regular expression\n",
    "   \n",
    "    AMD_group = re.match(AMD_ID,each_file)                               # match each ID with pattern\n",
    "    \n",
    "    if AMD_group is None :                                               # if match does not found\n",
    "            \n",
    "        Sample_no_match.append(each_file)                                # append the ID to list\n",
    "        print(each_file, \"is not maching with ID\")\n",
    "        \n",
    "    else:\n",
    "       \n",
    "        pass                                                             # if ID match with regex, pass\n",
    "#print(Sample_with_match)\n",
    "\n"
   ]
  },
  {
   "cell_type": "code",
   "execution_count": 46,
   "id": "d8c7784f-7ec0-426d-b770-16003409b2bd",
   "metadata": {},
   "outputs": [
    {
     "name": "stdout",
     "output_type": "stream",
     "text": [
      "8 out of 20 samples did not match with AMD_ID\n",
      "\n",
      "Here is the list of samples that did not match\n",
      "20MDAn00X002p5F0671\n",
      "20MDAn00X00205F0671\n",
      "19ANBe00A0009PfFxxx\n",
      "19ANBe00A0010PfFxxx\n",
      "19\n",
      "12ab\n",
      "191NBe00A0026PfFxxx0\n",
      "19ANBe00A0031P1Fxxx0\n"
     ]
    }
   ],
   "source": [
    "## lastly, print All the IDs without match so that user can review them and make a corrction before further processing.\n",
    "print(len(Sample_no_match), \"out of\", len(SampleID_df),\"samples did not match with AMD_ID\")         # print the total number of samples that did not match \n",
    "\n",
    "print(\"\\nHere is the list of samples that did not match\")\n",
    "\n",
    "ID_No_match = \"\\n\".join ([str(ID) for ID in Sample_no_match if len(Sample_no_match) != 0 ])         #  print the list of IDs that did not match \n",
    "print(ID_No_match)\n"
   ]
  },
  {
   "cell_type": "code",
   "execution_count": null,
   "id": "e9a48978-87bc-409a-ad6a-107cbb637f24",
   "metadata": {},
   "outputs": [],
   "source": []
  },
  {
   "cell_type": "code",
   "execution_count": null,
   "id": "0885b3c0-3638-488a-ba9a-5852d54fe14e",
   "metadata": {},
   "outputs": [],
   "source": []
  },
  {
   "cell_type": "code",
   "execution_count": null,
   "id": "39797862-bfeb-40c3-92dd-5d01d84e2151",
   "metadata": {},
   "outputs": [],
   "source": []
  }
 ],
 "metadata": {
  "kernelspec": {
   "display_name": "Python 3 (ipykernel)",
   "language": "python",
   "name": "python3"
  },
  "language_info": {
   "codemirror_mode": {
    "name": "ipython",
    "version": 3
   },
   "file_extension": ".py",
   "mimetype": "text/x-python",
   "name": "python",
   "nbconvert_exporter": "python",
   "pygments_lexer": "ipython3",
   "version": "3.9.12"
  }
 },
 "nbformat": 4,
 "nbformat_minor": 5
}
