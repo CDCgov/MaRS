{
 "cells": [
  {
   "cell_type": "markdown",
   "id": "d7fb8e6f-bb68-40b3-81dc-ede523f7e718",
   "metadata": {},
   "source": [
    "> Author: @ ET 4/13/22 :goat:  \n",
    ">> edited by: \n",
    "------\n",
    "\n",
    ">#### Activity Name ####\n",
    " - [ ] Add code to grab the IDs from the .fastq files in example data \n",
    ">#### Completed Activity ✓ ####\n",
    "\n",
    "\n",
    "------\n",
    "\n",
    "## AMD ID Quality Check of FASTQ Filenames ##\n",
    "\n",
    "### Background: ### \n",
    "\n",
    "A standardized sample naming schema is used to capture all associated meta-data prior to sequencing. Briefly, the `AMD ID` consist of 20 characters that capture information like collection year, geographical and treatment information, sample type and molecular markers included for each sample. \n",
    "\n",
    "Capturing this information at the pre-processing stage reduces the need to have multiple documents with this information, removing potential for mislabeling or tracking errors, and provides the bioiformatics team  with sufficient information to perform subsequent analysis and standardize analysis pipelines, including submission of data to NCBI. \n",
    "\n",
    "#### AMD ID Description #### \n",
    "\n",
    "* The AMD ID Key:  `<year> <country> <state/site> <day of failure> <treatment> <sample_id> <genus spp> <sample type> <mol marker bit code> <# sample processed>`. \n",
    "* Any missing meta data is replaced with an `x` _lower case_ strings for each character position. \n",
    "\n",
    "Example:\n",
    "- `Individual` sequenced sample ID: `17GNDo00F0001PfF1290` = `<2017> <Guinea> <Dorota> <Day0> <AS+AQ> <0001> <P.falciparum> <FilterBloodSpot> <k13-crt-mdr-dhfr-dhps-cytB-cpmp-pfs47> <0>` \n",
    "\n",
    "                       \n",
    "- `Pooled` sequenced sample ID: `17GNDo00x001p10F1290` = `<2017> <Guinea> <Dorota> <Day0> <missing info> <001> <Pooled Samples> <Samples in Pool> <FilterBloodSpot> <k13-crt-mdr-dhfr-dhps-cytB-cpmp-pfs47> <0>`\n",
    "       \n",
    "NOTE: If information is not availble (na), **x** is used for each character position. For example, in the pooled samples Treatment has (2) character spaces, represented as a two digit integer code. This is replaced with (2) **xx** since its a pool of samples that have possibly different Treatment information. Moreover, for pooled samples, **Sample ID** is replaced with **three digit number + the letter p** (for pooled), and **Genus** is replaced with **total number of SamplesInPool** as a (2) digit number. \n",
    "\n",
    "Please see presentation at `MaRS/Geneious_workflow/01_sample_ID_QC/files/AMD_ID_create_key.pptx` for more descriptive information. \n",
    "     \n",
    "### Code information ###\n",
    "\n",
    "This code checks whether the `AMD ID` is the correct length and contains all the required elements described above. \n",
    "\n",
    "### Required packages ###\n",
    "- [Pandas](https://pandas.pydata.org/) \n",
    "- [os](https://docs.python.org/3/library/os.html)\n",
    "- [re](https://docs.python.org/3/library/re.html) \n",
    "\n",
    "### Inputs ###\n",
    "- .fastq filenames in the `AMD ID` convention \n",
    "\n",
    "### Outputs ### \n",
    "- List of incorrect `AMD ID` .fastq file "
   ]
  },
  {
   "cell_type": "code",
   "execution_count": 10,
   "id": "cbeacfb4-8e04-4742-85f9-2b9ad37d698f",
   "metadata": {},
   "outputs": [],
   "source": [
    "## Clear variables, modules, etc ## \n",
    "\n",
    "# %reset -f          # reset workspace; see %reset -h\n",
    "\n",
    "# dir()              # check dir is clean "
   ]
  },
  {
   "cell_type": "code",
   "execution_count": 7,
   "id": "8a90230f-6ca8-4ce3-aedb-33fb23a49e5c",
   "metadata": {},
   "outputs": [],
   "source": [
    "## Import dependencies ## \n",
    "\n",
    "import pandas as pd\n",
    "import os\n",
    "import re\n"
   ]
  },
  {
   "cell_type": "code",
   "execution_count": 25,
   "id": "3f44c6f8-df5d-4a28-973b-bf4632bdf5d7",
   "metadata": {},
   "outputs": [
    {
     "name": "stdout",
     "output_type": "stream",
     "text": [
      "/Users/eldintalundzic/MaRS/Geneious_workflow/02_geneious_analysis/example_data\n"
     ]
    }
   ],
   "source": [
    "## Get current dir $PATHs ## \n",
    "\n",
    "current_dir = os.getcwd()\n",
    "print(current_dir)\n",
    "\n",
    "## Get user $PATH ## \n",
    "\n",
    "def slash_split(string):\n",
    "    '''Takes string, at 3rd \"/\" keeps all characters to the left; if no \"/\" returns full string'''\n",
    "    if string.count(\"/\") == 0:\n",
    "        return string \n",
    "    return \"/\".join(string.split(\"/\", 3)[:3]) \n",
    "\n",
    "user_path = slash_split(current_dir)\n",
    "\n",
    "## Change dir to example .fastq data ## \n",
    "\n",
    "#os.chdir(user_path + \"/MaRS/Geneious_workflow/02_geneious_analysis/example_data\")"
   ]
  },
  {
   "cell_type": "code",
   "execution_count": 28,
   "id": "6a45c13d-aa17-4fb1-abb6-c380d53adeaf",
   "metadata": {},
   "outputs": [
    {
     "name": "stdin",
     "output_type": "stream",
     "text": [
      "Provide full path to fastq filenames: /Users/eldintalundzic/MaRS/Geneious_workflow/02_geneious_analysis/example_data\n"
     ]
    }
   ],
   "source": [
    "## Change dir to your own .fastq ## \n",
    "\n",
    "fastq_filepath = input(\"Provide full path to fastq filenames:\") \n",
    "\n"
   ]
  },
  {
   "cell_type": "code",
   "execution_count": 27,
   "id": "b2945f0c-5b44-4d76-99c4-6b1782d35baf",
   "metadata": {},
   "outputs": [
    {
     "data": {
      "text/plain": [
       "'/Users/eldintalundzic/MaRS/Geneious_workflow/02_geneious_analysis/example_data'"
      ]
     },
     "execution_count": 27,
     "metadata": {},
     "output_type": "execute_result"
    }
   ],
   "source": [
    "os.getcwd()"
   ]
  },
  {
   "cell_type": "code",
   "execution_count": 29,
   "id": "de3c7281-421d-4523-9378-8cb85f310f0e",
   "metadata": {},
   "outputs": [
    {
     "data": {
      "text/plain": [
       "'/Users/eldintalundzic/MaRS/Geneious_workflow/02_geneious_analysis/example_data'"
      ]
     },
     "execution_count": 29,
     "metadata": {},
     "output_type": "execute_result"
    }
   ],
   "source": [
    "fastq_filepath"
   ]
  },
  {
   "cell_type": "code",
   "execution_count": null,
   "id": "e4d7948c-bb37-4dc5-bc41-38dc06cc85ac",
   "metadata": {},
   "outputs": [],
   "source": []
  }
 ],
 "metadata": {
  "kernelspec": {
   "display_name": "Python 3 (ipykernel)",
   "language": "python",
   "name": "python3"
  },
  "language_info": {
   "codemirror_mode": {
    "name": "ipython",
    "version": 3
   },
   "file_extension": ".py",
   "mimetype": "text/x-python",
   "name": "python",
   "nbconvert_exporter": "python",
   "pygments_lexer": "ipython3",
   "version": "3.9.12"
  }
 },
 "nbformat": 4,
 "nbformat_minor": 5
}
