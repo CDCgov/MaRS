{
 "cells": [
  {
   "cell_type": "markdown",
   "id": "203c67fb-6763-44e6-a711-f62d4d2ec3ab",
   "metadata": {},
   "source": [
    "## Quality check of sample ID ##\n",
    "\n",
    "\n",
    "### Background: ### \n",
    "\n",
    "A standardized sample naming schema is used to capture all associated meta-data prior to sequencing. Briefly, the `AMD ID` consist of 20 characters that capture information like collection year, geographical and treatment information, sample type and molecular markers included for each sample. \n",
    "\n",
    "Capturing this information at the pre-processing stage reduces the need to have multiple documents with this information, removing potential for mislabeling or tracking errors, and provides the bioinformatics team  with sufficient information to perform subsequent analysis and standardize analysis pipelines, including submission of data to NCBI. \n",
    "\n",
    "#### AMD ID Description #### \n",
    "\n",
    "* The AMD ID Key:  `<year> <country> <state/site> <day of failure> <treatment> <sample_id> <genus spp> <sample type> <mol marker bit code> <# sample processed>`. \n",
    "* Any missing meta data is replaced with an `x` _lower case_ strings for each character position. \n",
    "\n",
    "Example:\n",
    "- `Individual` sequenced sample ID: `17GNDo00F0001PfF1290` = `<2017> <Guinea> <Dorota> <Day0> <AS+AQ> <0001> <P.falciparum> <FilterBloodSpot> <k13-crt-mdr-dhfr-dhps-cytB-cpmp-pfs47> <0>` \n",
    "                      \n",
    "- `Pooled` sequenced sample ID: `17GNDo00x001p10F1290` = `<2017> <Guinea> <Dorota> <Day0> <missing info> <001> <Pooled Samples> <Samples in Pool> <FilterBloodSpot> <k13-crt-mdr-dhfr-dhps-cytB-cpmp-pfs47> <0>`\n",
    "       \n",
    "NOTE: If information is not availble (na), **x** is used for each character position. For example, in the pooled samples Treatment has (2) character spaces, represented as a two digit number. This is replaced with (2) **xx** since its a pool of samples that have possibly different treatment information. Moreover, for pooled samples, **Sample ID** is replaced with **three digit number + the letter p** (for pooled), and **Genus** is replaced with **total number of SamplesInPool** as a (2) digit number. \n",
    "\n",
    "Please see presentation at [AMD_ID presentation](https://github.com/CDCgov/MaRS/blob/master/Geneious_workflow/01_sample_ID_QC/files/AMD_ID_create_key.pptx) for more descriptive information. The `AMD ID` can be generated using the [AMD create template](https://github.com/CDCgov/MaRS/blob/master/Geneious_workflow/01_sample_ID_QC/files/AMD_ID_create_template.xlsx). \n",
    "     \n",
    "### Code information ###\n",
    "\n",
    "This code checks whether the `AMD ID` is the correct length and contains all the required elements described above. \n",
    "              \n",
    "\n",
    "### Required packages\n",
    "- [Pandas](https://pandas.pydata.org/) \n",
    "- [tabulate](https://pypi.org/project/tabulate/)\n",
    "\n",
    "### Inputs\n",
    "- Sample IDs in .csv file or raw fastq files\n",
    "\n",
    "### Outputs:\n",
    "- Outputs a list of sample IDs which does not match with standerdized AMD IDs.\n"
   ]
  },
  {
   "cell_type": "code",
   "execution_count": null,
   "id": "08b13890-f9f0-4822-b7fd-bd073f52fb00",
   "metadata": {},
   "outputs": [],
   "source": [
    "## Import dependencies ## \n",
    "\n",
    "import pandas as pd\n",
    "import os\n",
    "import re\n",
    "import glob\n",
    "import tabulate"
   ]
  },
  {
   "cell_type": "markdown",
   "id": "bee7891d-b72f-454c-aa03-05f1e15d8252",
   "metadata": {},
   "source": [
    "\n",
    "## Please edit the path if it is csv or fastq folder ##\n",
    "\n",
    "- If file is csv, add the full path with its file extension **EX: /User/admin/Desktop/sample.csv**\n",
    "\n",
    "- If it is folder with paired fastq files, add the full path with its file extension **\".fastq.gz or .fastq\"** for all the fastq file **EX: \"/User/admin/Desktop/Folder_with_fastq/*.fastq.gz (if it is gunzip)or /User/admin/Desktop/Folder_with_fastq/*.fastq\"**\n",
    "\n",
    "\n"
   ]
  },
  {
   "cell_type": "code",
   "execution_count": 194,
   "id": "d2587c38-a405-4dd7-ad01-6532d2fd6d67",
   "metadata": {},
   "outputs": [
    {
     "name": "stdout",
     "output_type": "stream",
     "text": [
      "/Users/dhruvipatel/Documents/Burkina_Faso/BF_Paired/*fastq.gz is a fastq  file!\n",
      "Total number of samples are: 790\n"
     ]
    }
   ],
   "source": [
    "My_path = \"/Users/dhruvipatel/Documents/Burkina_Faso/BF_Paired/*fastq.gz\"             # Path is a folder containing a fastq files\n",
    "\n",
    "#My_path = \"/Users/dhruvipatel/Downloads/BF2021TES-PlatesP1-P2-10282022-SRMBEPLAK.csv\"       # Path is Samplesheet csv file before Sequencing \n",
    "\n",
    "ext = os.path.splitext(My_path)[-1].lower()\n",
    "\n",
    "\n",
    "if ext == \".csv\":\n",
    "        print (My_path, \"is an csv!\")\n",
    "        My_CSV = pd.read_csv(My_path, header=None, skiprows = 20)                           # Skip thye first 20 rows from SampleSheet as they are not AMDID\n",
    "        My_CSV.columns = My_CSV.iloc[0]     # Set 20th column as \n",
    "        My_CSV = My_CSV[1:].reset_index(drop=True)\n",
    "   \n",
    "        Sample_file = My_CSV.filter(['Sample_ID'], axis=1)                                  # Dataframe with only list of AMDIDs\n",
    "        print(\"Total number of samples are:\", len(Sample_file))\n",
    "\n",
    "elif ext == \".gz\" or ext == \".fastq\":\n",
    "        print (My_path, \"is a fastq  file!\")\n",
    "        my_file = [f for f in glob.glob(My_path)]                                           # use glob functio to list the files\n",
    "            \n",
    "        clean_filenames = [doc_name.split(\"/\")[-1].split(\"_\")[0] for doc_name in my_file]                             \n",
    "        Sample_file = pd.DataFrame(clean_filenames, columns=[\"Sample_ID\"])                     # add column name to data frame called AMD_ID\n",
    "        Sample_file = Sample_file.drop_duplicates()                                         # drop duplicates from list\n",
    "        print(\"Total number of samples are:\", len(Sample_file))\n",
    "else:\n",
    "        print (My_path, \"is an unknown file format.\")\n",
    "        \n"
   ]
  },
  {
   "cell_type": "code",
   "execution_count": 195,
   "id": "08e8c069-beab-4aed-88ac-6b4c6158dfbb",
   "metadata": {},
   "outputs": [
    {
     "name": "stdout",
     "output_type": "stream",
     "text": [
      "The Individual samples count are: {'21BFGO': 206, '21BFNI': 196, '21BFNA': 236}\n",
      "\n",
      "The Pooled samples count are:  {'21BFGO': 52, '21BFNI': 53, '21BFNA': 47}\n"
     ]
    }
   ],
   "source": [
    "# This code will count the samples by sites for individual and Pooled. \n",
    "from collections import Counter\n",
    "\n",
    "LT1 = Sample_file['Sample_ID'].tolist()             # convert column to list\n",
    "\n",
    "IND = []\n",
    "Pool = []\n",
    "\n",
    "for i in LT1:                                       # separate pools and individual in separate list\n",
    "    if i[12:13]== 'p':\n",
    "        Pool.append(i)\n",
    "        \n",
    "    else:\n",
    "        IND.append(i)\n",
    "                           \n",
    "LT_IND = []                \n",
    "ind = [LT_IND.append(i[0:6]) for i in IND]          # count the number of individual samples per site\n",
    "\n",
    "print (\"The Individual samples count are:\", dict(Counter(LT_IND)))\n",
    "\n",
    "LT_Pool = [] \n",
    "pool = [LT_Pool.append(j[0:6]) for j in Pool]       # count the number of Pools samples per site\n",
    "\n",
    "\n",
    "print (\"\\nThe Pooled samples count are: \", dict(Counter(LT_Pool)))   "
   ]
  },
  {
   "cell_type": "code",
   "execution_count": null,
   "id": "6d4291cc-41f4-4401-a57a-b66e683eb443",
   "metadata": {},
   "outputs": [],
   "source": [
    "## Creat a empty list for AMD_IDs \n",
    "\n",
    "Sample_no_match = []        # All the Ids with no match will be saved in list\n",
    "Sample_with_match = []      # all the ID which has length  20 will be saved in list\n",
    " \n",
    "## First part is to check if Sample ID has length 20 or not\n",
    "\n",
    "Sample_name = Sample_file.rename(columns={'Sample':\"Sample_ID\", 'AMD_ID': \"Sample_ID\",'AMD ID (Pooled)': \"Sample_ID\", 'Document Name': \"Sample_ID\"})      # rename column name to Sample_ID as differant files migth have diffenrt column name.\n",
    "  \n",
    "SampleID_df = Sample_name[['Sample_ID']]                       # creat a dataframe using the column Sample_ID \n",
    "\n",
    "#remove US conrtols to avoid any errors in sample ID\n",
    "\n",
    "SampleID_df = SampleID_df[SampleID_df['Sample_ID'].str.contains(\"USxx|USGA|NTC|3D7|HB3|7G8|DD2|D6\") == False]\n",
    "\n",
    "\n",
    "for rows in SampleID_df.index:                                 # run a for loop on each rows\n",
    "    \n",
    "    sample_name =SampleID_df['Sample_ID'][rows].split('/n')    # split rows by newline\n",
    "    for each_ID in sample_name:\n",
    "        if len(each_ID) == 20 :                                # if length is 20, save the samples in Sample_with_match list\n",
    "            Sample_with_match.append(each_ID) \n",
    "        else: \n",
    "            Sample_no_match.append(each_ID)                    # if length is not 20 then save the results in Sample_no_match list. \n",
    "            print(each_ID,\"has length\", int(len(each_ID)))     # print the sample ID with its length if less than 20\n",
    "\n"
   ]
  },
  {
   "cell_type": "code",
   "execution_count": null,
   "id": "8e94ccbe-9fad-4000-b2e6-8b8c51e6501f",
   "metadata": {},
   "outputs": [],
   "source": [
    "## 2nd part is to check all ID with length 20, if it matches with AMD ID information regular expression as shown in discription at begining.\n",
    "\n",
    "for each_file  in Sample_with_match:                                     # Run a for loop for each file in Sample_with_match list\n",
    "    \n",
    "    AMD_ID =('([0-9]{2})([A-Zx]{2})([A-Za-z]{2})([0-9x]{2})([A-Zx]{1})([0-9]{3})(([0-9]{1})|([p]{1}))(([0-9]{2})|([Pf]{2}))([A-Zx]{1})([0-9x]{3})([0-9]{1})')\n",
    "             \n",
    "                                                                         # split AMD ID by its information using regular expression\n",
    "   \n",
    "    AMD_group = re.match(AMD_ID,each_file)                               # match each ID with pattern\n",
    "    \n",
    "    if AMD_group is None :                                               # if match does not found\n",
    "            \n",
    "        Sample_no_match.append(each_file)                                # append the ID to list\n",
    "        print(each_file, \"is not maching with ID\")\n",
    "        \n",
    "    else:\n",
    "       \n",
    "        pass                                                             # if ID match with regex, pass\n",
    "#print(Sample_with_match)\n",
    "\n"
   ]
  },
  {
   "cell_type": "code",
   "execution_count": null,
   "id": "4e409ef1-8ce9-4b08-945f-f7362b8a1c92",
   "metadata": {},
   "outputs": [],
   "source": [
    "## lastly, print All the IDs without match so that user can review them and make a corrction before further processing.\n",
    "print(len(Sample_no_match), \"out of\", len(SampleID_df),\"samples did not match with AMD_ID\")         # print the total number of samples that did not match \n",
    "\n",
    "\n",
    "if len(Sample_no_match) == 0:\n",
    "        print(\"you are good to proceed with analysis: All the samples pass through QC test\")\n",
    "else :\n",
    "    print(\"\\nHere is the list of samples that did not match\")\n",
    "    \n",
    "ID_No_match = \"\\n\".join ([str(ID) for ID in Sample_no_match if len(Sample_no_match) != 0 ])         #  print the list of IDs that did not match \n",
    "print(ID_No_match)\n"
   ]
  },
  {
   "cell_type": "code",
   "execution_count": null,
   "id": "e2efd210-51dd-437e-893b-6a700a0c0308",
   "metadata": {},
   "outputs": [],
   "source": [
    "# This part of code runs through the samples_no_match list and creats a table with key. Then user can identyfy where the key does not match visually from the table.\n",
    "\n",
    "data_regex_QC = []                               \n",
    "\n",
    "#Sample_no_match = [\"17GNDo00F0001PfF1291\", \"17GNDo00F0001PfF129\",\"17GNDo00F0001PfF12911\",'17GNDo00F0001PfF1','17GNDo0F0001PfF1291', \"NF54\",\"NTC-DFR\", \"NTC-DHFR\" ]\n",
    "\n",
    "# Loop through the Sample id with no match list, split the ID by key using regex and creat dictionary .\n",
    "\n",
    "for id in Sample_no_match:\n",
    "    if len(id) >= 15:\n",
    "        match = re.match(r\"(?P<year>\\w{2})(?P<country>\\w{2})(?P<Site>\\w{2})(?P<Treatment_Day>\\w{2})(?P<Treatment>\\w{1})(?P<ID>\\w{4})(?P<Genus_Pooled>\\w{,2})(?P<Type>\\w{,1})(?P<GenemarkerCode>\\w{,3})(?P<Repeat>\\w{0,})\", id)\n",
    "        dic = match.groupdict()\n",
    "        Dict_QC_re ={\"name\": id,\"length_of_sample_ID\" : len(id)}              # append the two keys to dict for Sample name and its length\n",
    "        Dict_QC_re.update(dic)                                                # update a dict with new key value pair i.e name and length\n",
    "        data_regex_QC.append(Dict_QC_re)     \n",
    "    elif len(id) < 15:\n",
    "        Dict_QC_re ={\"name\": id,\"length_of_sample_ID\" : len(id)}              # append the two keys to dict for Sample name and its length\n",
    "        data_regex_QC.append(Dict_QC_re)     \n",
    "                                   \n",
    "        \n",
    "if len(data_regex_QC) != 0:                                            # If length of list is not 0; \n",
    "    header = data_regex_QC[0].keys()                                   # header = keys of dict\n",
    "    rows = [x.values() for x in data_regex_QC]                         # rows will be value of dict\n",
    "    print (tabulate.tabulate(rows, header, tablefmt=\"grid\"))           # use tabulate module to creat a table   \n",
    "\n",
    "else:\n",
    "    print('\\n',\"All the samples are matching with AMD_ID\",\"\\n\", \"No errors found in samples\")        # If all the IDs matched with AMD id no table will be created. \n",
    "     "
   ]
  },
  {
   "cell_type": "code",
   "execution_count": null,
   "id": "4d15ebf5-613f-4dd3-874f-62da0212ca48",
   "metadata": {},
   "outputs": [],
   "source": []
  },
  {
   "cell_type": "code",
   "execution_count": null,
   "id": "fdbeec22-cb92-4aa1-ae60-13ddf20a4dba",
   "metadata": {},
   "outputs": [],
   "source": []
  }
 ],
 "metadata": {
  "kernelspec": {
   "display_name": "Python 3 (ipykernel)",
   "language": "python",
   "name": "python3"
  },
  "language_info": {
   "codemirror_mode": {
    "name": "ipython",
    "version": 3
   },
   "file_extension": ".py",
   "mimetype": "text/x-python",
   "name": "python",
   "nbconvert_exporter": "python",
   "pygments_lexer": "ipython3",
   "version": "3.9.12"
  }
 },
 "nbformat": 4,
 "nbformat_minor": 5
}
